{
 "cells": [
  {
   "cell_type": "markdown",
   "metadata": {},
   "source": [
    "# Trabalho de Implementação e Análise de Algoritmos de Implementação"
   ]
  },
  {
   "cell_type": "markdown",
   "metadata": {},
   "source": [
    "### Integrantes: \n",
    "João Canavarro\n",
    "\n",
    "Renan Cunha\n",
    "\n",
    "Ronaldd Pinho\n",
    "\n",
    "Wagner Felidré"
   ]
  },
  {
   "cell_type": "markdown",
   "metadata": {},
   "source": [
    "## Questão 1"
   ]
  },
  {
   "cell_type": "code",
   "execution_count": null,
   "metadata": {},
   "outputs": [],
   "source": [
    "e ai"
   ]
  },
  {
   "cell_type": "markdown",
   "metadata": {},
   "source": [
    "## Questão 2"
   ]
  },
  {
   "cell_type": "code",
   "execution_count": 24,
   "metadata": {},
   "outputs": [
    {
     "name": "stdout",
     "output_type": "stream",
     "text": [
      "[ 0  0  1  5  6  9  9 11 11 13 14 14 15 15 15 16 18 18 19 20 20 21 23 23\n",
      " 24 25 27 29 30 34 34 35 36 39 39 40 40 40 40 41 42 43 43 43 44 45 46 47\n",
      " 47 50 50 52 52 53 54 54 56 58 60 62 64 65 68 70 71 72 72 72 74 74 75 75\n",
      " 76 77 77 78 78 78 78 80 81 82 82 85 87 87 88 89 90 90 92 92 92 94 94 95\n",
      " 97 97 98 98]\n"
     ]
    }
   ],
   "source": [
    "from __future__ import print_function\n",
    "import random\n",
    "import numpy as np\n",
    "def heapify(unsorted, index, heap_size):\n",
    "    largest = index\n",
    "    \n",
    "    left_index = 2 * index + 1\n",
    "    \n",
    "    right_index = 2 * index + 2\n",
    "    \n",
    "    '''verifies that the left is greater than the index and the element of the left is greater\n",
    "    than the highest index, if yes the maximum index receives the index of the left.'''\n",
    "    if left_index < heap_size and unsorted[left_index] > unsorted[largest]:\n",
    "        largest = left_index\n",
    "\n",
    "    if right_index < heap_size and unsorted[right_index] > unsorted[largest]:\n",
    "        largest = right_index\n",
    "\n",
    "        \n",
    "    if largest != index:\n",
    "        # if there was exchange the index receives the largest and the largest receives the indece\n",
    "        unsorted[largest], unsorted[index] = unsorted[index], unsorted[largest]\n",
    "        # calls the function with the new index that will be the largest, will scroll to the last element\n",
    "        heapify(unsorted, largest, heap_size)\n",
    "\n",
    "\n",
    "def heap_sort(unsorted):\n",
    "    \n",
    "    n = len(unsorted)\n",
    "    \n",
    "    for i in range(n // 2 - 1, -1, -1): # invert vector and subtract 1 from mod, so start the from pivo\n",
    "        heapify(unsorted, i, n)\n",
    "        \n",
    "    for i in range(n - 1, 0, -1): # inverts and reads every vector minus the first element and the last element\n",
    "        \n",
    "        unsorted[0], unsorted[i] = unsorted[i], unsorted[0] # exchange last element for the first\n",
    "        heapify(unsorted, 0, i) # resets the first element with greater\n",
    "    return unsorted\n",
    "\n",
    "if __name__ == '__main__':\n",
    "    \n",
    "    try:\n",
    "        raw_input          # Python 2\n",
    "    except NameError:\n",
    "        raw_input = input  # Python 3\n",
    "        \n",
    "    unsorted = np.random.randint(100, size = 100)  #Generate 100 elements\n",
    "    \n",
    "    print(heap_sort(unsorted))"
   ]
  },
  {
   "cell_type": "markdown",
   "metadata": {},
   "source": [
    "## Questão 3"
   ]
  },
  {
   "cell_type": "code",
   "execution_count": null,
   "metadata": {},
   "outputs": [],
   "source": [
    "qual foi"
   ]
  },
  {
   "cell_type": "markdown",
   "metadata": {},
   "source": [
    "## Questão 4"
   ]
  },
  {
   "cell_type": "code",
   "execution_count": null,
   "metadata": {},
   "outputs": [],
   "source": [
    "fala"
   ]
  }
 ],
 "metadata": {
  "kernelspec": {
   "display_name": "Python 3",
   "language": "python",
   "name": "python3"
  },
  "language_info": {
   "codemirror_mode": {
    "name": "ipython",
    "version": 3
   },
   "file_extension": ".py",
   "mimetype": "text/x-python",
   "name": "python",
   "nbconvert_exporter": "python",
   "pygments_lexer": "ipython3",
   "version": "3.6.5"
  }
 },
 "nbformat": 4,
 "nbformat_minor": 2
}
