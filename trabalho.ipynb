{
 "cells": [
  {
   "cell_type": "markdown",
   "metadata": {},
   "source": [
    "# Trabalho de Implementação e Análise de Algoritmos de Implementação"
   ]
  },
  {
   "cell_type": "markdown",
   "metadata": {},
   "source": [
    "### Integrantes: \n",
    "João Canavarro\n",
    "\n",
    "Renan Cunha\n",
    "\n",
    "Ronaldd Pinho\n",
    "\n",
    "Wagner Felidré"
   ]
  },
  {
   "cell_type": "code",
   "execution_count": 1,
   "metadata": {},
   "outputs": [],
   "source": [
    "import sys\n",
    "sys.path.append(\"algoritmos/\")"
   ]
  },
  {
   "cell_type": "markdown",
   "metadata": {},
   "source": [
    "## Questão 1"
   ]
  },
  {
   "cell_type": "code",
   "execution_count": null,
   "metadata": {},
   "outputs": [],
   "source": [
    "e ai"
   ]
  },
  {
   "cell_type": "markdown",
   "metadata": {},
   "source": [
    "## Questão 2"
   ]
  },
  {
   "cell_type": "code",
   "execution_count": null,
   "metadata": {
    "collapsed": true
   },
   "outputs": [],
   "source": [
    "coé"
   ]
  },
  {
   "cell_type": "markdown",
   "metadata": {},
   "source": [
    "## Questão 3"
   ]
  },
  {
   "cell_type": "code",
   "execution_count": null,
   "metadata": {},
   "outputs": [],
   "source": [
    "qual foi"
   ]
  },
  {
   "cell_type": "markdown",
   "metadata": {},
   "source": [
    "## Questão 4"
   ]
  },
  {
   "cell_type": "code",
   "execution_count": 2,
   "metadata": {},
   "outputs": [],
   "source": [
    "import numpy as np, numpy.random as npr\n",
    "import matplotlib.pyplot as plt\n",
    "import time\n",
    "from quick_sort import quick_sort as quick\n",
    "from counting_sort import counting_sort as count"
   ]
  },
  {
   "cell_type": "markdown",
   "metadata": {},
   "source": [
    "<font size=4>\n",
    "    Counting Sort vs Quick Sort\n",
    "</font>"
   ]
  },
  {
   "cell_type": "code",
   "execution_count": 4,
   "metadata": {},
   "outputs": [
    {
     "name": "stdout",
     "output_type": "stream",
     "text": [
      "Tamanho para testes:  [ 100  200  300  400  500  600  700  800  900 1000 1100 1200 1300 1400\n",
      " 1500 1600 1700 1800 1900 2000 2100 2200 2300 2400 2500 2600 2700 2800\n",
      " 2900 3000 3100 3200 3300 3400 3500 3600 3700 3800 3900 4000 4100 4200\n",
      " 4300 4400 4500 4600 4700 4800 4900 5000 5100 5200 5300 5400 5500 5600\n",
      " 5700 5800 5900 6000 6100 6200 6300 6400 6500 6600 6700 6800 6900 7000\n",
      " 7100 7200 7300 7400 7500 7600 7700 7800 7900 8000 8100 8200 8300 8400\n",
      " 8500 8600 8700 8800 8900 9000 9100 9200 9300 9400 9500 9600 9700 9800\n",
      " 9900] \n",
      "\n"
     ]
    },
    {
     "data": {
      "image/png": "[encoded data removed]",
      "text/plain": [
       "<Figure size 432x288 with 1 Axes>"
      ]
     },
     "metadata": {},
     "output_type": "display_data"
    }
   ],
   "source": [
    "def sorting_time(A, sorter):\n",
    "    \n",
    "    if sorter == 'quick':\n",
    "        start = time.time()\n",
    "        A1 = np.array(quick(A))\n",
    "        end = time.time()\n",
    "    elif sorter == 'count':\n",
    "        start = time.time()\n",
    "        A1 = np.array(count(A))\n",
    "        end = time.time()\n",
    "        \n",
    "    T = round( (end-start)*1000, 4)\n",
    "    #print(\"{} ==> {} --> Time = {} segundos\".format(A, A1, T))\n",
    "    #print(sorter.capitalize(), \"time =\", T)\n",
    "    \n",
    "    return T\n",
    "\n",
    "\n",
    "def media_5exec(size):\n",
    "    quick_times = np.zeros(5)\n",
    "    count_times = np.zeros(5)\n",
    "    for i in range(5):\n",
    "        ARRAY = npr.randint(100, size=size)\n",
    "        quick_times[i] = sorting_time(ARRAY, 'quick')\n",
    "        count_times[i] = sorting_time(ARRAY, 'count')\n",
    "        \n",
    "    return round(sum(quick_times)/5, 4), round(sum(count_times)/5, 4)\n",
    "\n",
    "\n",
    "# tamVetor é um vetor com os valores que serão usados como tamanho da entrada\n",
    "\n",
    "#tamVetor = np.array([500, 600, 700, 800, 900, 1000, 1500])\n",
    "#tamVetor = np.linspace(100, 50000, 100, dtype=int)\n",
    "tamVetor = np.arange(100, 10000, 100)\n",
    "\n",
    "print(\"Tamanho para testes:\\n\", tamVetor, \"\\n\")\n",
    "\n",
    "quick_times = np.array([], dtype=float)\n",
    "count_times = np.array([], dtype=float)\n",
    "\n",
    "for i in range(len(tamVetor)):\n",
    "    medQuick, medCount = media_5exec(size=tamVetor[i])\n",
    "    #print(\"Médias para entrada de tamanho {}:\\nQuickSort: {}\\nCountingSort: {}\\n\".format(tamVetor[i], medQuick, medCount))\n",
    "    quick_times = np.append(quick_times, medQuick)\n",
    "    count_times = np.append(count_times, medCount)\n",
    "\n",
    "\n",
    "# plotando os graficos\n",
    "plt.plot(tamVetor, quick_times, \"r-\", label='Quick Sort')\n",
    "plt.plot(tamVetor, count_times, \"b-\", label='Counting Sort')\n",
    "plt.xlim([ tamVetor[0] , tamVetor[-1] ])\n",
    "plt.xlabel('Tamanho da entrada')\n",
    "plt.ylim([0,30])\n",
    "plt.ylabel('Tempo em segundos')\n",
    "plt.grid()\n",
    "plt.show()"
   ]
  }
 ],
 "metadata": {
  "kernelspec": {
   "display_name": "Python 3",
   "language": "python",
   "name": "python3"
  },
  "language_info": {
   "codemirror_mode": {
    "name": "ipython",
    "version": 3
   },
   "file_extension": ".py",
   "mimetype": "text/x-python",
   "name": "python",
   "nbconvert_exporter": "python",
   "pygments_lexer": "ipython3",
   "version": "3.6.5"
  }
 },
 "nbformat": 4,
 "nbformat_minor": 2
}
