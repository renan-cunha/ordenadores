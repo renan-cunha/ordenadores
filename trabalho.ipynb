{
 "cells": [
  {
   "cell_type": "markdown",
   "metadata": {},
   "source": [
    "# Trabalho de Implementação e Análise de Algoritmos de Implementação"
   ]
  },
  {
   "cell_type": "markdown",
   "metadata": {},
   "source": [
    "### Integrantes: \n",
    "João Canavarro\n",
    "\n",
    "Renan Cunha\n",
    "\n",
    "Ronaldd Pinho\n",
    "\n",
    "Wagner Felidré"
   ]
  },
  {
   "cell_type": "code",
   "execution_count": 2,
   "metadata": {},
   "outputs": [],
   "source": [
    "import sys\n",
    "import random\n",
    "import matplotlib.pyplot as plt\n",
    "import numpy as np\n",
    "\n",
    "import time\n",
    "import random\n",
    "\n",
    "sys.path.append(\"algoritmos/\")"
   ]
  },
  {
   "cell_type": "code",
   "execution_count": 3,
   "metadata": {},
   "outputs": [],
   "source": [
    "def heapify(unsorted, index, heap_size):\n",
    "    largest = index\n",
    "    \n",
    "    left_index = 2 * index + 1\n",
    "    \n",
    "    right_index = 2 * index + 2\n",
    "    \n",
    "    #verifies that the left is greater than the index and the element of the left is greater\n",
    "    #than the highest index, if yes the maximum index receives the index of the left.\n",
    "    if left_index < heap_size and unsorted[left_index] > unsorted[largest]:\n",
    "        largest = left_index\n",
    "\n",
    "    if right_index < heap_size and unsorted[right_index] > unsorted[largest]:\n",
    "        largest = right_index\n",
    "\n",
    "        \n",
    "    if largest != index:\n",
    "        # if there was exchange the index receives the largest and the largest receives the indece\n",
    "        unsorted[largest], unsorted[index] = unsorted[index], unsorted[largest]\n",
    "        # calls the function with the new index that will be the largest, will scroll to the last element\n",
    "        heapify(unsorted, largest, heap_size)\n",
    "\n",
    "\n",
    "def heap_sort(unsorted):\n",
    "    \n",
    "    n = len(unsorted)\n",
    "    \n",
    "    for i in range(n // 2 - 1, -1, -1): # invert vector and subtract 1 from mod, so start the from pivo\n",
    "        heapify(unsorted, i, n)\n",
    "        \n",
    "    for i in range(n - 1, 0, -1): # inverts and reads every vector minus the first element and the last element\n",
    "        \n",
    "        unsorted[0], unsorted[i] = unsorted[i], unsorted[0] # exchange last element for the first\n",
    "        heapify(unsorted, 0, i) # resets the first element with greater\n",
    "    return unsorted\n",
    "\n",
    "if __name__ == '__main__':\n",
    "    \n",
    "    try:\n",
    "        raw_input          # Python 2\n",
    "    except NameError:\n",
    "        raw_input = input  # Python 3\n",
    "        \n",
    "    #unsorted = np.random.randint(100, size = 100)  #Generate 100 elements"
   ]
  },
  {
   "cell_type": "markdown",
   "metadata": {},
   "source": [
    "## Questão 1"
   ]
  },
  {
   "cell_type": "code",
   "execution_count": 3,
   "metadata": {},
   "outputs": [
    {
     "name": "stdout",
     "output_type": "stream",
     "text": [
      "e ai\n"
     ]
    }
   ],
   "source": [
    "print('e ai')"
   ]
  },
  {
   "cell_type": "markdown",
   "metadata": {},
   "source": [
    "## Questão 2"
   ]
  },
  {
   "cell_type": "markdown",
   "metadata": {},
   "source": [
    "## A) Use uma sequência aleatória de números inteiros entre 1 e 100 como entrada do algoritmo e apresente o print da execução."
   ]
  },
  {
   "cell_type": "code",
   "execution_count": 14,
   "metadata": {},
   "outputs": [
    {
     "name": "stdout",
     "output_type": "stream",
     "text": [
      "vetor não ordenado\n",
      " [43 72 13 49 60 11 20  6 70 38 30 42 65 63 26 72 68 10 72 66 15 16  9 20\n",
      " 16 58 66  6 51  2 11 43  6  4  4 37 62 29  0 23 54 49 57 63 47 59 12  6\n",
      " 26 60 57 54 15 50 30  7 57 13 57 72 53 42 18 36 62 72 20 15  2 35 38 26\n",
      " 14 32 34  0 14]\n",
      "vetor ordenado \n",
      " [ 0  0  2  2  4  4  6  6  6  6  7  9 10 11 11 12 13 13 14 14 15 15 15 16\n",
      " 16 18 20 20 20 23 26 26 26 29 30 30 32 34 35 36 37 38 38 42 42 43 43 47\n",
      " 49 49 50 51 53 54 54 57 57 57 57 58 59 60 60 62 62 63 63 65 66 66 68 70\n",
      " 72 72 72 72 72]\n"
     ]
    }
   ],
   "source": [
    "tamanho = random.randint(1, 100)\n",
    "unsorted = np.random.randint(tamanho, size = tamanho)  #Generate 100 elements\n",
    "print('vetor não ordenado\\n', unsorted)\n",
    "print('vetor ordenado \\n', heap_sort(unsorted))"
   ]
  },
  {
   "cell_type": "markdown",
   "metadata": {},
   "source": [
    "## B) Qual é a complexidade no tempo do algoritmo? Explique."
   ]
  },
  {
   "cell_type": "markdown",
   "metadata": {},
   "source": [
    "O algoritmo heapSprt tem por sua complexidade no melhor caso n*log(n) e para o pior caso n*log(n), porém deve constar que a quantidade de trocas realizadas influenciam na eficiência do algoritmo, sendo assim um vetor em decrescente possuiria um desempenho relacionado a tempo relativamento melhor que um vetor em ordem crescenta, sendo estes dados como entrada para a ordenação."
   ]
  },
  {
   "cell_type": "markdown",
   "metadata": {},
   "source": [
    "## C) \n",
    "### c1) Compare o tempo de execução do algoritmo quando o mesmo recebe como entrada sequências ordenadas (em ordem crescente e decrescente) e desordenadas. \n",
    "### c2) Caso mais números fossem inseridos nas sequências, como o desempenho do algoritmo seria afetado? Usando dados reais, ilustre graficamente suas conclusões."
   ]
  },
  {
   "cell_type": "markdown",
   "metadata": {},
   "source": [
    "A ordenção ocorrei para o caso (C1) com 100 elementos, para o caso (C2) ocorre com valores de 50,100,1.000, 10.000, 1.000.000, conforme fica evidenciado acima.\n",
    "\n",
    "\n",
    "Sendo assim um vetor em ordem crescente possui mais etapas de trocas realizadas desta forma possui um tempo mais elevado que os vetor aleatórios ou decrescentes, os vetores descrescentes e aleatórios possuem tempo relativamento próximo, visto que um vetor decrescente precisa fazer menos iterações de troca e o vetor aleatório dependendo da situação dos elementos do vetor pode-se obter quase a mesma quatidade de iterações."
   ]
  },
  {
   "cell_type": "code",
   "execution_count": 5,
   "metadata": {},
   "outputs": [],
   "source": [
    "def tempo_execucao():\n",
    "    \n",
    "    tempo_crescente   = []\n",
    "    tempo_decrescente = []\n",
    "    tempo_desordenado = []\n",
    "    \n",
    "    for i in range(0,100):\n",
    "        unsorted = np.random.randint(100, size = 100)  #Generate elements\n",
    "        vetor = heap_sort(unsorted) # Ordenacao\n",
    "\n",
    "        # Vetor ordenado \n",
    "        inicio = time.time()\n",
    "        crescente = heap_sort(vetor)\n",
    "        fim = time.time()\n",
    "        t1 = fim - inicio\n",
    "        tempo_crescente.append(t1)\n",
    "\n",
    "        # Vetor Decrecente\n",
    "        inicio = time.time()\n",
    "        decrescente = heap_sort(vetor[::-1])\n",
    "        fim = time.time()\n",
    "        t2 = fim - inicio\n",
    "        tempo_decrescente.append(t2)\n",
    "\n",
    "        #Vetor Desordenado\n",
    "        inicio = time.time()\n",
    "        desordenado = heap_sort(unsorted)\n",
    "        fim = time.time()\n",
    "        t3 = fim - inicio\n",
    "        tempo_desordenado.append(t3)\n",
    "        \n",
    "    return tempo_crescente, tempo_decrescente, tempo_desordenado"
   ]
  },
  {
   "cell_type": "code",
   "execution_count": 6,
   "metadata": {},
   "outputs": [],
   "source": [
    "def tamanho_crescente():\n",
    "    tempo_crescente   = []\n",
    "    tempo_decrescente = []\n",
    "    tempo_desordenado = []\n",
    "    \n",
    "    parcial_crescente   = []\n",
    "    parcial_decrescente = []\n",
    "    parcial_desordenado = []\n",
    "    \n",
    "    tamanho = [50, 100, 1000, 10000, 100000, 1000000] \n",
    "    for i in range(0,5):\n",
    "        for j in range(0,5):\n",
    "            unsorted = np.random.randint(tamanho[i], size = tamanho[i])  #Generate elements\n",
    "            vetor = heap_sort(unsorted) # Ordenacao\n",
    "            \n",
    "            # Vetor ordenado \n",
    "            inicio = time.time()\n",
    "            crescente = heap_sort(vetor)\n",
    "            fim = time.time()\n",
    "            t1 = fim - inicio\n",
    "            parcial_crescente.append(t1)\n",
    "\n",
    "            # Vetor Decrecente\n",
    "            inicio = time.time()\n",
    "            decrescente = heap_sort(vetor[::-1])\n",
    "            fim = time.time()\n",
    "            t2 = fim - inicio\n",
    "            parcial_decrescente.append(t2)\n",
    "\n",
    "            #Vetor Desordenado\n",
    "            inicio = time.time()\n",
    "            desordenado = heap_sort(unsorted)\n",
    "            fim = time.time()\n",
    "            t3 = fim - inicio\n",
    "            parcial_desordenado.append(t3)\n",
    "            \n",
    "            print('ta rodando')\n",
    "        tempo_crescente.append(sum(parcial_crescente)/tamanho[i])\n",
    "        tempo_decrescente.append(sum(parcial_decrescente)/tamanho[i])\n",
    "        tempo_desordenado.append(sum(parcial_desordenado)/tamanho[i])\n",
    "        \n",
    "    return tempo_crescente, tempo_decrescente, tempo_desordenado"
   ]
  },
  {
   "cell_type": "code",
   "execution_count": 13,
   "metadata": {},
   "outputs": [],
   "source": [
    "def plotagem_tempo(tempo_crescente, tempo_decrescente, tempo_desordenado):\n",
    "    plt.plot(tempo_crescente,   'r', label='Vetor Crescente')\n",
    "    plt.plot(tempo_decrescente, 'g', label='Vetor Decrescente')\n",
    "    plt.plot(tempo_desordenado, 'b', label='Vetor Desordenado')\n",
    "    plt.legend()\n",
    "    plt.title(\"Tamanho fixo de elementos\")\n",
    "    plt.show()"
   ]
  },
  {
   "cell_type": "code",
   "execution_count": 10,
   "metadata": {},
   "outputs": [],
   "source": [
    "def tamanho_variado(tempo_crescente, tempo_decrescente, tempo_desordenado):\n",
    "    plt.plot(tempo_crescente, 'r')\n",
    "    plt.plot(tempo_decrescente, 'g')\n",
    "    plt.plot(tempo_desordenado, 'b')\n",
    "    plt.legend(('Vetor Crescente', 'Vetor Decrescente', 'Vetor Desordenado'), loc = 'upper center', shadow=True)\n",
    "    plt.title('Tamanho variado de elementos')\n",
    "    plt.show()"
   ]
  },
  {
   "cell_type": "code",
   "execution_count": 12,
   "metadata": {},
   "outputs": [
    {
     "data": {
      "image/png": "[encoded data removed]",
      "text/plain": [
       "<Figure size 432x288 with 1 Axes>"
      ]
     },
     "metadata": {},
     "output_type": "display_data"
    },
    {
     "name": "stdout",
     "output_type": "stream",
     "text": [
      "ta rodando\n",
      "ta rodando\n",
      "ta rodando\n",
      "ta rodando\n",
      "ta rodando\n",
      "ta rodando\n",
      "ta rodando\n",
      "ta rodando\n",
      "ta rodando\n",
      "ta rodando\n",
      "ta rodando\n",
      "ta rodando\n",
      "ta rodando\n",
      "ta rodando\n",
      "ta rodando\n",
      "ta rodando\n",
      "ta rodando\n",
      "ta rodando\n",
      "ta rodando\n",
      "ta rodando\n",
      "ta rodando\n",
      "ta rodando\n",
      "ta rodando\n",
      "ta rodando\n",
      "ta rodando\n"
     ]
    },
    {
     "data": {
      "image/png": "[encoded data removed]",
      "text/plain": [
       "<Figure size 432x288 with 1 Axes>"
      ]
     },
     "metadata": {},
     "output_type": "display_data"
    }
   ],
   "source": [
    "tempo_crescente, tempo_decrescente, tempo_desordenado = tempo_execucao()\n",
    "plotagem_tempo(tempo_crescente, tempo_decrescente, tempo_desordenado)\n",
    "\n",
    "tempo_crescente, tempo_decrescente, tempo_desordenado = tamanho_crescente()\n",
    "tamanho_variado(tempo_crescente, tempo_decrescente, tempo_desordenado)"
   ]
  },
  {
   "cell_type": "markdown",
   "metadata": {},
   "source": [
    "A ordenção ocorrei para o caso (C1) com 100 elementos, para o caso (C2) ocorre com valores de 50,100,1.000, 10.000, 1.000.000, conforme fica evidenciado acima.\n",
    "\n",
    "C1)\n",
    "    Sendo assim para um vetor em ordem crescente possui mais etapas de trocas realizadas desta forma possui um tempo mais elevado que os vetor aleatórios ou decrescentes, os vetores descrescentes e aleatórios possuem tempo relativamento próximo, visto que um vetor decrescente precisa fazer menos iterações de troca e o vetor aleatório dependendo da situação dos elementos do vetor pode-se obter quase a mesma quatidade de iterações.\n",
    "    \n",
    "C2) Para o segundo caso, como foi constatado o vetor em ordem crescente à ser ordenado será mais oneroso que vetores decrescente e desordenado, porém para valores pequenos os vetores decrescente e aleatório possuem tempo próximos, porém para valores assintóticos o vetor aleatório possui melhor desenpenho, visto que ha possibilidade de fazer menos iterações que o vetor descrescente."
   ]
  },
  {
   "cell_type": "markdown",
   "metadata": {},
   "source": [
    "## D)  Faça um estudo comparativo do algoritmo HeapSort com os algoritmos QuickSort, implementados na Questão 1, nas situações apresentadas."
   ]
  },
  {
   "cell_type": "code",
   "execution_count": null,
   "metadata": {},
   "outputs": [],
   "source": []
  },
  {
   "cell_type": "markdown",
   "metadata": {},
   "source": [
    "## Questão 3"
   ]
  },
  {
   "cell_type": "code",
   "execution_count": null,
   "metadata": {},
   "outputs": [],
   "source": [
    "qual foi"
   ]
  },
  {
   "cell_type": "markdown",
   "metadata": {},
   "source": [
    "## Questão 4"
   ]
  },
  {
   "cell_type": "code",
   "execution_count": null,
   "metadata": {},
   "outputs": [],
   "source": [
    "fala"
   ]
  },
  {
   "cell_type": "code",
   "execution_count": null,
   "metadata": {},
   "outputs": [],
   "source": []
  },
  {
   "cell_type": "code",
   "execution_count": null,
   "metadata": {},
   "outputs": [],
   "source": []
  }
 ],
 "metadata": {
  "kernelspec": {
   "display_name": "Python 3",
   "language": "python",
   "name": "python3"
  },
  "language_info": {
   "codemirror_mode": {
    "name": "ipython",
    "version": 3
   },
   "file_extension": ".py",
   "mimetype": "text/x-python",
   "name": "python",
   "nbconvert_exporter": "python",
   "pygments_lexer": "ipython3",
   "version": "3.6.5"
  }
 },
 "nbformat": 4,
 "nbformat_minor": 2
}
