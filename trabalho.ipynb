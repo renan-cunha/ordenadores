{
 "cells": [
  {
   "cell_type": "markdown",
   "metadata": {},
   "source": [
    "# Trabalho de Implementação e Análise de Algoritmos de Implementação"
   ]
  },
  {
   "cell_type": "markdown",
   "metadata": {},
   "source": [
    "### Integrantes: \n",
    "João Canavarro\n",
    "\n",
    "Renan Cunha\n",
    "\n",
    "Ronaldd Pinho\n",
    "\n",
    "Wagner Felidré"
   ]
  },
  {
   "cell_type": "markdown",
   "metadata": {},
   "source": [
    "## Questão 1"
   ]
  },
  {
   "cell_type": "code",
   "execution_count": null,
   "metadata": {},
   "outputs": [],
   "source": [
    "e ai"
   ]
  },
  {
   "cell_type": "markdown",
   "metadata": {},
   "source": [
    "## Questão 2"
   ]
  },
  {
   "cell_type": "code",
   "execution_count": 15,
   "metadata": {},
   "outputs": [
    {
     "name": "stdout",
     "output_type": "stream",
     "text": [
      "Enter numbers separated by a comma:\n",
      "2,6,3,1,8,4,11,2,5,1,0,22,3\n",
      "5\n",
      "5\n",
      "5\n",
      "5\n",
      "5\n",
      "5\n",
      "[0, 1, 1, 2, 2, 3, 3, 4, 5, 6, 8, 11, 22]\n"
     ]
    }
   ],
   "source": [
    "from __future__ import print_function\n",
    "import random\n",
    "\n",
    "def heapify(unsorted, index, heap_size):\n",
    "    largest = index\n",
    "    left_index = 2 * index + 1\n",
    "    right_index = 2 * index + 2\n",
    "    if left_index < heap_size and unsorted[left_index] > unsorted[largest]:\n",
    "        largest = left_index\n",
    "\n",
    "    if right_index < heap_size and unsorted[right_index] > unsorted[largest]:\n",
    "        largest = right_index\n",
    "\n",
    "    if largest != index:\n",
    "        unsorted[largest], unsorted[index] = unsorted[index], unsorted[largest]\n",
    "        heapify(unsorted, largest, heap_size)\n",
    "\n",
    "\n",
    "def heap_sort(unsorted):\n",
    "    \n",
    "    n = len(unsorted)\n",
    "    \n",
    "    for i in range(n // 2 - 1, -1, -1): # invert vector and subtract 1 from mod, so start the from pivo\n",
    "        heapify(unsorted, i, n)\n",
    "    for i in range(n - 1, 0, -1): # inverts and reads every vector minus the first element\n",
    "        unsorted[0], unsorted[i] = unsorted[i], unsorted[0]\n",
    "        heapify(unsorted, 0, i)\n",
    "    return unsorted\n",
    "\n",
    "if __name__ == '__main__':\n",
    "    \n",
    "    try:\n",
    "        raw_input          # Python 2\n",
    "    except NameError:\n",
    "        raw_input = input  # Python 3\n",
    "    #unsorted = []\n",
    "    #unsorted = random.randint(0,100)   \n",
    "    user_input = raw_input('Enter numbers separated by a comma:\\n').strip()\n",
    "    unsorted = [int(item) for item in user_input.split(',')]\n",
    "    print(heap_sort(unsorted))\n",
    "    #2,6,3,1,8,4,11,2,5,1,0,22,3"
   ]
  },
  {
   "cell_type": "markdown",
   "metadata": {},
   "source": [
    "## Questão 3"
   ]
  },
  {
   "cell_type": "code",
   "execution_count": null,
   "metadata": {},
   "outputs": [],
   "source": [
    "qual foi"
   ]
  },
  {
   "cell_type": "markdown",
   "metadata": {},
   "source": [
    "## Questão 4"
   ]
  },
  {
   "cell_type": "code",
   "execution_count": null,
   "metadata": {},
   "outputs": [],
   "source": [
    "fala"
   ]
  }
 ],
 "metadata": {
  "kernelspec": {
   "display_name": "Python 3",
   "language": "python",
   "name": "python3"
  },
  "language_info": {
   "codemirror_mode": {
    "name": "ipython",
    "version": 3
   },
   "file_extension": ".py",
   "mimetype": "text/x-python",
   "name": "python",
   "nbconvert_exporter": "python",
   "pygments_lexer": "ipython3",
   "version": "3.6.5"
  }
 },
 "nbformat": 4,
 "nbformat_minor": 2
}
