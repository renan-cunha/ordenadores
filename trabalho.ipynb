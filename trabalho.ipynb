{
 "cells": [
  {
   "cell_type": "markdown",
   "metadata": {},
   "source": [
    "# Trabalho de Implementação e Análise de Algoritmos de Implementação"
   ]
  },
  {
   "cell_type": "markdown",
   "metadata": {},
   "source": [
    "### Integrantes: \n",
    "João Canavarro\n",
    "\n",
    "Renan Cunha\n",
    "\n",
    "Ronaldd Pinho\n",
    "\n",
    "Wagner Felidré"
   ]
  },
  {
   "cell_type": "code",
   "execution_count": 55,
   "metadata": {},
   "outputs": [],
   "source": [
    "import sys\n",
    "import random\n",
    "import matplotlib.pyplot as plt\n",
    "import numpy as np\n",
    "\n",
    "import time\n",
    "\n",
    "sys.path.append(\"algoritmos/\")"
   ]
  },
  {
   "cell_type": "code",
   "execution_count": null,
   "metadata": {},
   "outputs": [],
   "source": [
    "def heapify(unsorted, index, heap_size):\n",
    "    largest = index\n",
    "    \n",
    "    left_index = 2 * index + 1\n",
    "    \n",
    "    right_index = 2 * index + 2\n",
    "    \n",
    "    #verifies that the left is greater than the index and the element of the left is greater\n",
    "    #than the highest index, if yes the maximum index receives the index of the left.\n",
    "    if left_index < heap_size and unsorted[left_index] > unsorted[largest]:\n",
    "        largest = left_index\n",
    "\n",
    "    if right_index < heap_size and unsorted[right_index] > unsorted[largest]:\n",
    "        largest = right_index\n",
    "\n",
    "        \n",
    "    if largest != index:\n",
    "        # if there was exchange the index receives the largest and the largest receives the indece\n",
    "        unsorted[largest], unsorted[index] = unsorted[index], unsorted[largest]\n",
    "        # calls the function with the new index that will be the largest, will scroll to the last element\n",
    "        heapify(unsorted, largest, heap_size)\n",
    "\n",
    "\n",
    "def heap_sort(unsorted):\n",
    "    \n",
    "    n = len(unsorted)\n",
    "    \n",
    "    for i in range(n // 2 - 1, -1, -1): # invert vector and subtract 1 from mod, so start the from pivo\n",
    "        heapify(unsorted, i, n)\n",
    "        \n",
    "    for i in range(n - 1, 0, -1): # inverts and reads every vector minus the first element and the last element\n",
    "        \n",
    "        unsorted[0], unsorted[i] = unsorted[i], unsorted[0] # exchange last element for the first\n",
    "        heapify(unsorted, 0, i) # resets the first element with greater\n",
    "    return unsorted\n",
    "\n",
    "if __name__ == '__main__':\n",
    "    \n",
    "    try:\n",
    "        raw_input          # Python 2\n",
    "    except NameError:\n",
    "        raw_input = input  # Python 3\n",
    "        \n",
    "    #unsorted = np.random.randint(100, size = 100)  #Generate 100 elements"
   ]
  },
  {
   "cell_type": "markdown",
   "metadata": {},
   "source": [
    "## Questão 1"
   ]
  },
  {
   "cell_type": "code",
   "execution_count": 13,
   "metadata": {},
   "outputs": [
    {
     "name": "stdout",
     "output_type": "stream",
     "text": [
      "e ai\n"
     ]
    }
   ],
   "source": [
    "print('e ai')"
   ]
  },
  {
   "cell_type": "markdown",
   "metadata": {},
   "source": [
    "## Questão 2"
   ]
  },
  {
   "cell_type": "markdown",
   "metadata": {},
   "source": [
    "## A) Use uma sequência aleatória de números inteiros entre 1 e 100 como entrada do algoritmo e apresente o print da execução."
   ]
  },
  {
   "cell_type": "code",
   "execution_count": 44,
   "metadata": {},
   "outputs": [
    {
     "name": "stdout",
     "output_type": "stream",
     "text": [
      "[ 1  1  1  1  1  1  2  2  4  5  7  7  8  9 10 11 12 12 15 15 17 17 18 20\n",
      " 20 22 25 26 28 30 30 31 31 32 32 33 35 35 36 36 37 37 38 38 38 38 38 39\n",
      " 40 41 41 42 44 45 46 46 46 49 51 52 54 57 57 58 60 63 65 65 66 66 67 68\n",
      " 71 77 78 79 79 80 82 84 84 84 84 86 87 88 90 91 91 91 91 92 94 94 95 95\n",
      " 98 98 99 99]\n"
     ]
    }
   ],
   "source": [
    "unsorted = np.random.randint(100, size = 100)  #Generate 100 elements\n",
    "print(heap_sort(unsorted))"
   ]
  },
  {
   "cell_type": "markdown",
   "metadata": {},
   "source": [
    "## B) Qual é a complexidade no tempo do algoritmo? Explique."
   ]
  },
  {
   "cell_type": "markdown",
   "metadata": {},
   "source": [
    "A complexidade do algoritmo é de n.log(n)"
   ]
  },
  {
   "cell_type": "markdown",
   "metadata": {},
   "source": [
    "## C) Compare o tempo de execução do algoritmo quando o mesmo recebe como entrada sequências ordenadas (em ordem crescente e decrescente) e desordenadas. \n",
    "## Caso mais números fossem inseridos nas sequências, como o desempenho do algoritmo seria afetado? Usando dados reais, ilustre graficamente suas conclusões."
   ]
  },
  {
   "cell_type": "code",
   "execution_count": 123,
   "metadata": {},
   "outputs": [],
   "source": [
    "def temp_exec():\n",
    "    \n",
    "    tempo_crescente = []\n",
    "    tempo_decrescente = []\n",
    "    tempo_desordenado = []\n",
    "\n",
    "   \n",
    "\n",
    "    for i in range(0,100):\n",
    "        unsorted = np.random.randint(1000, size = 1000)  #Generate 100 elements\n",
    "        vetor = heap_sort(unsorted)\n",
    "\n",
    "        inicio = time.time()\n",
    "        crescente = heap_sort(vetor)\n",
    "        fim = time.time()\n",
    "        t1 = fim - inicio\n",
    "        tempo_crescente.append(t1)\n",
    "\n",
    "\n",
    "        inicio = time.time()\n",
    "        decrescente = heap_sort(vetor[::-1])\n",
    "        fim = time.time()\n",
    "        t2 = fim - inicio\n",
    "        tempo_decrescente.append(t2)\n",
    "\n",
    "\n",
    "        inicio = time.time()\n",
    "        desordenado = heap_sort(unsorted)\n",
    "        fim = time.time()\n",
    "        t3 = fim - inicio\n",
    "        tempo_desordenado.append(t3)\n",
    "        \n",
    "    return tempo_crescente, tempo_decrescente, tempo_desordenado"
   ]
  },
  {
   "cell_type": "code",
   "execution_count": 127,
   "metadata": {},
   "outputs": [
    {
     "data": {
      "image/png": "[encoded data removed]",
      "text/plain": [
       "<Figure size 432x288 with 1 Axes>"
      ]
     },
     "metadata": {},
     "output_type": "display_data"
    }
   ],
   "source": [
    "\n",
    "tempo_crescente, tempo_decrescente, tempo_desordenado = temp_exec()\n",
    "plt.plot(tempo_crescente, 'r')\n",
    "plt.plot(tempo_decrescente, 'g')\n",
    "plt.plot(tempo_desordenado, 'b')\n",
    "plt.legend(('Tempo Crescente', 'Tempo Decrescente', 'Tempo Desordenado'), loc='upper center', shadow=True)\n",
    "plt.title(\"Tamanho fixo de elementos\")\n",
    "plt.show()"
   ]
  },
  {
   "cell_type": "markdown",
   "metadata": {},
   "source": [
    "## Questão 3"
   ]
  },
  {
   "cell_type": "code",
   "execution_count": null,
   "metadata": {},
   "outputs": [],
   "source": [
    "qual foi"
   ]
  },
  {
   "cell_type": "markdown",
   "metadata": {},
   "source": [
    "## Questão 4"
   ]
  },
  {
   "cell_type": "code",
   "execution_count": null,
   "metadata": {},
   "outputs": [],
   "source": [
    "fala"
   ]
  },
  {
   "cell_type": "code",
   "execution_count": null,
   "metadata": {},
   "outputs": [],
   "source": []
  },
  {
   "cell_type": "code",
   "execution_count": null,
   "metadata": {},
   "outputs": [],
   "source": []
  }
 ],
 "metadata": {
  "kernelspec": {
   "display_name": "Python 3",
   "language": "python",
   "name": "python3"
  },
  "language_info": {
   "codemirror_mode": {
    "name": "ipython",
    "version": 3
   },
   "file_extension": ".py",
   "mimetype": "text/x-python",
   "name": "python",
   "nbconvert_exporter": "python",
   "pygments_lexer": "ipython3",
   "version": "3.6.5"
  }
 },
 "nbformat": 4,
 "nbformat_minor": 2
}
