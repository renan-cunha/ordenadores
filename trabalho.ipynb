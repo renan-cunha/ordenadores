{
 "cells": [
  {
   "cell_type": "markdown",
   "metadata": {},
   "source": [
    "# Trabalho de Implementação e Análise de Algoritmos de Implementação"
   ]
  },
  {
   "cell_type": "markdown",
   "metadata": {},
   "source": [
    "### Integrantes: \n",
    "João Canavarro\n",
    "\n",
    "Renan Cunha\n",
    "\n",
    "Ronaldd Pinho\n",
    "\n",
    "Wagner Felidré"
   ]
  },
  {
   "cell_type": "code",
   "execution_count": 7,
   "metadata": {
    "collapsed": true
   },
   "outputs": [],
   "source": [
    "import sys\n",
    "import random\n",
    "import time\n",
    "import matplotlib.pyplot as plt\n",
    "import numpy as np\n",
    "sys.path.append(\"algoritmos/\")"
   ]
  },
  {
   "cell_type": "code",
   "execution_count": null,
   "metadata": {
    "collapsed": true
   },
   "outputs": [],
   "source": []
  },
  {
   "cell_type": "markdown",
   "metadata": {},
   "source": [
    "## Questão 1"
   ]
  },
  {
   "cell_type": "code",
   "execution_count": 8,
   "metadata": {},
   "outputs": [
    {
     "name": "stdout",
     "output_type": "stream",
     "text": [
      "e ai\n"
     ]
    }
   ],
   "source": [
    "print('e ai')"
   ]
  },
  {
   "cell_type": "markdown",
   "metadata": {},
   "source": [
    "## Questão 2 - Implemente em uma linguagem de programação a sua escolha o algoritmo de ordenação HeapSort. Em seguida, trabalhe os itens abaixo."
   ]
  },
  {
   "cell_type": "code",
   "execution_count": 9,
   "metadata": {
    "collapsed": true
   },
   "outputs": [],
   "source": [
    "from heap_sort import heap_sort"
   ]
  },
  {
   "cell_type": "markdown",
   "metadata": {},
   "source": [
    "## A) Use uma sequência aleatória de números inteiros entre 1 e 100 como entrada do algoritmo e apresente o print da execução."
   ]
  },
  {
   "cell_type": "code",
   "execution_count": 10,
   "metadata": {},
   "outputs": [
    {
     "name": "stdout",
     "output_type": "stream",
     "text": [
      "vetor não ordenado\n",
      " [43 22 11 69 34 19 57 18 54 82 51 16 80 44 29 52  0 56 80 78 14  2 17 81\n",
      " 33 82 48 17 56 63 63 75 43 70 74 70 71 59 73 48 76 66 28 81 53 18 62 24\n",
      " 35 15 59 65 16  7 34 24 44 17 31 16 24 82 24 44 35 57 62 14 74 15 37 76\n",
      " 81  3  2 18 10 36 45  4 43 53 77 24]\n",
      "vetor ordenado \n",
      " [ 0  2  2  3  4  7 10 11 14 14 15 15 16 16 16 17 17 17 18 18 18 19 22 24\n",
      " 24 24 24 24 28 29 31 33 34 34 35 35 36 37 43 43 43 44 44 44 45 48 48 51\n",
      " 52 53 53 54 56 56 57 57 59 59 62 62 63 63 65 66 69 70 70 71 73 74 74 75\n",
      " 76 76 77 78 80 80 81 81 81 82 82 82]\n"
     ]
    }
   ],
   "source": [
    "tamanho = random.randint(1, 100)\n",
    "unsorted = np.random.randint(tamanho, size = tamanho)  #Generate 100 elements\n",
    "print('vetor não ordenado\\n', unsorted)\n",
    "print('vetor ordenado \\n', heap_sort(unsorted))"
   ]
  },
  {
   "cell_type": "markdown",
   "metadata": {},
   "source": [
    "## B) Qual é a complexidade no tempo do algoritmo? Explique."
   ]
  },
  {
   "cell_type": "markdown",
   "metadata": {},
   "source": [
    "<font size = 4> O algoritmo heapSprt tem por sua complexidade no melhor caso n*log(n) e para o pior caso n*log(n), porém deve constar que a quantidade de trocas realizadas influenciam na eficiência do algoritmo, sendo assim um vetor em decrescente possuiria um desempenho relacionado a tempo relativamento melhor que um vetor em ordem crescenta, sendo estes dados como entrada para a ordenação.</font>"
   ]
  },
  {
   "cell_type": "markdown",
   "metadata": {},
   "source": [
    "## C) \n",
    "### c1) Compare o tempo de execução do algoritmo quando o mesmo recebe como entrada sequências ordenadas (em ordem crescente e decrescente) e desordenadas. \n",
    "### c2) Caso mais números fossem inseridos nas sequências, como o desempenho do algoritmo seria afetado? Usando dados reais, ilustre graficamente suas conclusões."
   ]
  },
  {
   "cell_type": "code",
   "execution_count": 12,
   "metadata": {
    "collapsed": true
   },
   "outputs": [],
   "source": [
    "def ordenacoes(sett):\n",
    "    tempo_crescente   = []\n",
    "    tempo_decrescente = []\n",
    "    tempo_desordenado = []\n",
    "    \n",
    "    parcial_crescente   = []\n",
    "    parcial_decrescente = []\n",
    "    parcial_desordenado = []\n",
    "    \n",
    "    if(sett == 0):\n",
    "        tamanho = np.arange(0,100001, 10000)[1::]\n",
    "        print('Valores do vetor: ', tamanho)\n",
    "    else:\n",
    "        tamanho = np.arange(0,101, 10)[1::]\n",
    "        print('Valores do vetor: ', tamanho)\n",
    "     \n",
    "    for i in range(0,10):\n",
    "        for j in range(0,5):\n",
    "            unsorted = np.random.randint(tamanho[i], size = tamanho[i])  #Generate elements\n",
    "            vetor = heap_sort(unsorted) # Ordenacao\n",
    "            \n",
    "            # Vetor ordenado \n",
    "            inicio = time.time()\n",
    "            crescente = heap_sort(vetor)\n",
    "            fim = time.time()\n",
    "            t1 = fim - inicio\n",
    "            parcial_crescente.append(t1)\n",
    "\n",
    "            # Vetor Decrecente\n",
    "            inicio = time.time()\n",
    "            decrescente = heap_sort(vetor[::-1])\n",
    "            fim = time.time()\n",
    "            t2 = fim - inicio\n",
    "            parcial_decrescente.append(t2)\n",
    "\n",
    "            #Vetor Desordenado\n",
    "            inicio = time.time()\n",
    "            desordenado = heap_sort(unsorted)\n",
    "            fim = time.time()\n",
    "            t3 = fim - inicio\n",
    "            parcial_desordenado.append(t3)\n",
    "            \n",
    "        tempo_crescente.append(np.average(parcial_crescente))\n",
    "        tempo_decrescente.append(np.average(parcial_decrescente))\n",
    "        tempo_desordenado.append(np.average(parcial_desordenado))\n",
    "        \n",
    "    return tamanho, tempo_crescente, tempo_decrescente, tempo_desordenado"
   ]
  },
  {
   "cell_type": "code",
   "execution_count": 13,
   "metadata": {
    "collapsed": true
   },
   "outputs": [],
   "source": [
    "def plotagem_tempo(sett, tamanho,tempo_crescente, tempo_decrescente, tempo_desordenado):\n",
    "    plt.plot(tamanho, tempo_crescente,   'r--', label='Vetor Crescente')\n",
    "    plt.plot(tamanho, tempo_decrescente, 'g-.', label='Vetor Decrescente', linewidth=2)\n",
    "    plt.plot(tamanho, tempo_desordenado, 'b--', label='Vetor Desordenado')\n",
    "    plt.legend()\n",
    "    \n",
    "    if(sett == 0):\n",
    "        plt.title(\"Tamanho fixo de elementos\")\n",
    "    else:\n",
    "        plt.title('Tamanho variado de elementos')\n",
    "        \n",
    "    plt.grid()\n",
    "    plt.show()"
   ]
  },
  {
   "cell_type": "code",
   "execution_count": 14,
   "metadata": {},
   "outputs": [
    {
     "name": "stdout",
     "output_type": "stream",
     "text": [
      "[ 10  20  30  40  50  60  70  80  90 100]\n"
     ]
    },
    {
     "data": {
      "image/png": "[encoded data removed]",
      "text/plain": [
       "<Figure size 432x288 with 1 Axes>"
      ]
     },
     "metadata": {},
     "output_type": "display_data"
    },
    {
     "name": "stdout",
     "output_type": "stream",
     "text": [
      "[ 10000  20000  30000  40000  50000  60000  70000  80000  90000 100000]\n"
     ]
    },
    {
     "data": {
      "image/png": "[encoded data removed]",
      "text/plain": [
       "<Figure size 432x288 with 1 Axes>"
      ]
     },
     "metadata": {},
     "output_type": "display_data"
    }
   ],
   "source": [
    "tamanho, tempo_crescente, tempo_decrescente, tempo_desordenado = ordenacoes(1)\n",
    "plotagem_tempo(0, tamanho, tempo_crescente, tempo_decrescente, tempo_desordenado)\n",
    "\n",
    "tamanho, tempo_crescente, tempo_decrescente, tempo_desordenado = ordenacoes(0)\n",
    "plotagem_tempo(1, tamanho, tempo_crescente, tempo_decrescente, tempo_desordenado)"
   ]
  },
  {
   "cell_type": "markdown",
   "metadata": {},
   "source": [
    "<font size = 4>\n",
    "    A ordenção ocorrei para o caso (C1) com valores de 1 a 100, para o caso (C2) ocorre com valores de 1 a 100.000, conforme fica evidenciado acima.\n",
    "</font>\n",
    "\n",
    "<br>\n",
    "<font size = 4>\n",
    "C1)\n",
    "    Sendo assim para um vetor em ordem crescente possui mais etapas de trocas realizadas desta forma possui um tempo mais elevado que os vetor aleatórios ou decrescentes, os vetores descrescentes e aleatórios possuem tempo relativamento próximo, visto que um vetor decrescente precisa fazer menos iterações de troca e o vetor aleatório dependendo da situação dos elementos do vetor pode-se obter quase a mesma quatidade de iterações.\n",
    "</font>\n",
    "\n",
    "<br>\n",
    "<font size = 4>\n",
    "C2) \n",
    "    Para o segundo caso, como foi constatado o vetor em ordem crescente à ser ordenado será mais oneroso que vetores decrescente e desordenado, porém para valores pequenos os vetores decrescente e aleatório possuem tempo próximos, porém para valores assintóticos o vetor aleatório possui pior desenpenho, visto que ha possibilidade de fazer menos iterações que o vetor descrescente.\n",
    "</font>"
   ]
  },
  {
   "cell_type": "markdown",
   "metadata": {},
   "source": [
    "## D)  Faça um estudo comparativo do algoritmo HeapSort com os algoritmos QuickSort, implementados na Questão 1, nas situações apresentadas."
   ]
  },
  {
   "cell_type": "markdown",
   "metadata": {},
   "source": [
    "<font size = 4>\n",
    "\n",
    "Para o quick sort o pior caso de particionamento ocorre quando o elemento pivô divide a lista de forma desbalanceada, ou seja, divide a lista em duas sub listas: uma com tamanho 0 e outra com tamanho n - 1, sendo assim possuindo complexidade (n²), contrapartida o heap sort não é influenciado em complexidade com o tipo de entradada do vetor, este possui complexidade de nlog(n) para o pior caso.\n",
    "</font>\n",
    "\n",
    "<br>\n",
    "<br>\n",
    "\n",
    "<font size = 4>\n",
    "O melhor caso de particionamento do quick sort acontece quando ele produz duas listas de tamanho não maior que n/2, assim possuindo complexidade nlog(n), o heap sort no seu melhor caso também possui complexidade nlog(n), pois o vetor de entrada não imfluência sua complexidade. \n",
    "\n",
    "</font>"
   ]
  },
  {
   "cell_type": "markdown",
   "metadata": {},
   "source": [
    "## Questão 3"
   ]
  },
  {
   "cell_type": "code",
   "execution_count": null,
   "metadata": {
    "collapsed": true
   },
   "outputs": [],
   "source": [
    "qual foi"
   ]
  },
  {
   "cell_type": "markdown",
   "metadata": {},
   "source": [
    "## Questão 4"
   ]
  },
  {
   "cell_type": "code",
   "execution_count": null,
   "metadata": {
    "collapsed": true
   },
   "outputs": [],
   "source": [
    "fala"
   ]
  }
 ],
 "metadata": {
  "kernelspec": {
   "display_name": "Python 3",
   "language": "python",
   "name": "python3"
  },
  "language_info": {
   "codemirror_mode": {
    "name": "ipython",
    "version": 3
   },
   "file_extension": ".py",
   "mimetype": "text/x-python",
   "name": "python",
   "nbconvert_exporter": "python",
   "pygments_lexer": "ipython3",
   "version": "3.6.2"
  }
 },
 "nbformat": 4,
 "nbformat_minor": 2
}
