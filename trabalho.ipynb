{
 "cells": [
  {
   "cell_type": "markdown",
   "metadata": {},
   "source": [
    "# Trabalho de Implementação e Análise de Algoritmos de Implementação"
   ]
  },
  {
   "cell_type": "markdown",
   "metadata": {},
   "source": [
    "### Integrantes: \n",
    "João Canavarro\n",
    "\n",
    "Renan Cunha\n",
    "\n",
    "Ronaldd Pinho\n",
    "\n",
    "Wagner Felidré"
   ]
  },
  {
   "cell_type": "code",
   "execution_count": 1,
   "metadata": {},
   "outputs": [],
   "source": [
    "import sys\n",
    "import random\n",
    "import matplotlib.pyplot as plt\n",
    "import numpy as np\n",
    "\n",
    "import time\n",
    "import random\n",
    "\n",
    "sys.path.append(\"algoritmos/\")"
   ]
  },
  {
   "cell_type": "code",
   "execution_count": 2,
   "metadata": {},
   "outputs": [],
   "source": [
    "def heapify(unsorted, index, heap_size):\n",
    "    largest = index\n",
    "    \n",
    "    left_index = 2 * index + 1\n",
    "    \n",
    "    right_index = 2 * index + 2\n",
    "    \n",
    "    #verifies that the left is greater than the index and the element of the left is greater\n",
    "    #than the highest index, if yes the maximum index receives the index of the left.\n",
    "    if left_index < heap_size and unsorted[left_index] > unsorted[largest]:\n",
    "        largest = left_index\n",
    "\n",
    "    if right_index < heap_size and unsorted[right_index] > unsorted[largest]:\n",
    "        largest = right_index\n",
    "\n",
    "        \n",
    "    if largest != index:\n",
    "        # if there was exchange the index receives the largest and the largest receives the indece\n",
    "        unsorted[largest], unsorted[index] = unsorted[index], unsorted[largest]\n",
    "        # calls the function with the new index that will be the largest, will scroll to the last element\n",
    "        heapify(unsorted, largest, heap_size)\n",
    "\n",
    "\n",
    "def heap_sort(unsorted):\n",
    "    \n",
    "    n = len(unsorted)\n",
    "    \n",
    "    for i in range(n // 2 - 1, -1, -1): # invert vector and subtract 1 from mod, so start the from pivo\n",
    "        heapify(unsorted, i, n)\n",
    "        \n",
    "    for i in range(n - 1, 0, -1): # inverts and reads every vector minus the first element and the last element\n",
    "        \n",
    "        unsorted[0], unsorted[i] = unsorted[i], unsorted[0] # exchange last element for the first\n",
    "        heapify(unsorted, 0, i) # resets the first element with greater\n",
    "    return unsorted\n",
    "\n",
    "if __name__ == '__main__':\n",
    "    \n",
    "    try:\n",
    "        raw_input          # Python 2\n",
    "    except NameError:\n",
    "        raw_input = input  # Python 3\n",
    "        \n",
    "    #unsorted = np.random.randint(100, size = 100)  #Generate 100 elements"
   ]
  },
  {
   "cell_type": "markdown",
   "metadata": {},
   "source": [
    "## Questão 1"
   ]
  },
  {
   "cell_type": "code",
   "execution_count": 3,
   "metadata": {},
   "outputs": [
    {
     "name": "stdout",
     "output_type": "stream",
     "text": [
      "e ai\n"
     ]
    }
   ],
   "source": [
    "print('e ai')"
   ]
  },
  {
   "cell_type": "markdown",
   "metadata": {},
   "source": [
    "## Questão 2"
   ]
  },
  {
   "cell_type": "markdown",
   "metadata": {},
   "source": [
    "## A) Use uma sequência aleatória de números inteiros entre 1 e 100 como entrada do algoritmo e apresente o print da execução."
   ]
  },
  {
   "cell_type": "code",
   "execution_count": 4,
   "metadata": {},
   "outputs": [
    {
     "name": "stdout",
     "output_type": "stream",
     "text": [
      "vetor não ordenado\n",
      " [42 17 50 61  9 59 44 51 62 61 67 12 78 67 64 49 67 43 85 30 40 48 78 43\n",
      " 26 18 19 18 75 73 35 21 22  3 10 72 47 31 49  0 89  7 82 95 66 19 32 66\n",
      " 25 72 52 31 48 28 77 60 48 84 21 24 32 15  3 50 51 23 49 35 20 29 89 69\n",
      " 21 15 21 11 14 82 71 37 10 85 91 28 84 19 30 83 87 39 54 32 24 27 41 73\n",
      " 37 74 38 54]\n",
      "vetor ordenado \n",
      " [ 0  3  3  7  9 10 10 11 12 14 15 15 17 18 18 19 19 19 20 21 21 21 21 22\n",
      " 23 24 24 25 26 27 28 28 29 30 30 31 31 32 32 32 35 35 37 37 38 39 40 41\n",
      " 42 43 43 44 47 48 48 48 49 49 49 50 50 51 51 52 54 54 59 60 61 61 62 64\n",
      " 66 66 67 67 67 69 71 72 72 73 73 74 75 77 78 78 82 82 83 84 84 85 85 87\n",
      " 89 89 91 95]\n"
     ]
    }
   ],
   "source": [
    "unsorted = np.random.randint(100, size = 100)  #Generate 100 elements\n",
    "print('vetor não ordenado\\n', unsorted)\n",
    "print('vetor ordenado \\n', heap_sort(unsorted))"
   ]
  },
  {
   "cell_type": "markdown",
   "metadata": {},
   "source": [
    "## B) Qual é a complexidade no tempo do algoritmo? Explique."
   ]
  },
  {
   "cell_type": "markdown",
   "metadata": {},
   "source": [
    "A complexidade do algoritmo é de n.log(n)"
   ]
  },
  {
   "cell_type": "markdown",
   "metadata": {},
   "source": [
    "## C) \n",
    "### a) Compare o tempo de execução do algoritmo quando o mesmo recebe como entrada sequências ordenadas (em ordem crescente e decrescente) e desordenadas. \n",
    "### b) Caso mais números fossem inseridos nas sequências, como o desempenho do algoritmo seria afetado? Usando dados reais, ilustre graficamente suas conclusões."
   ]
  },
  {
   "cell_type": "code",
   "execution_count": 5,
   "metadata": {},
   "outputs": [],
   "source": [
    "def tempo_execucao():\n",
    "    \n",
    "    tempo_crescente   = []\n",
    "    tempo_decrescente = []\n",
    "    tempo_desordenado = []\n",
    "    \n",
    "    for i in range(0,100):\n",
    "        unsorted = np.random.randint(100, size = 100)  #Generate elements\n",
    "        vetor = heap_sort(unsorted) # Ordenacao\n",
    "\n",
    "        # Vetor ordenado \n",
    "        inicio = time.time()\n",
    "        crescente = heap_sort(vetor)\n",
    "        fim = time.time()\n",
    "        t1 = fim - inicio\n",
    "        tempo_crescente.append(t1)\n",
    "\n",
    "        # Vetor Decrecente\n",
    "        inicio = time.time()\n",
    "        decrescente = heap_sort(vetor[::-1])\n",
    "        fim = time.time()\n",
    "        t2 = fim - inicio\n",
    "        tempo_decrescente.append(t2)\n",
    "\n",
    "        #Vetor Desordenado\n",
    "        inicio = time.time()\n",
    "        desordenado = heap_sort(unsorted)\n",
    "        fim = time.time()\n",
    "        t3 = fim - inicio\n",
    "        tempo_desordenado.append(t3)\n",
    "        \n",
    "    return tempo_crescente, tempo_decrescente, tempo_desordenado"
   ]
  },
  {
   "cell_type": "code",
   "execution_count": 10,
   "metadata": {},
   "outputs": [],
   "source": [
    "def tamanho_crescente():\n",
    "    tempo_crescente   = []\n",
    "    tempo_decrescente = []\n",
    "    tempo_desordenado = []\n",
    "    \n",
    "    parcial_crescente   = []\n",
    "    parcial_decrescente = []\n",
    "    parcial_desordenado = []\n",
    "    \n",
    "    tamanho = [50, 100, 1000, 10000, 1000000] \n",
    "    for i in range(0,5):\n",
    "        for j in range(0,5):\n",
    "            unsorted = np.random.randint(tamanho[i], size = tamanho[i])  #Generate elements\n",
    "            vetor = heap_sort(unsorted) # Ordenacao\n",
    "            \n",
    "            # Vetor ordenado \n",
    "            inicio = time.time()\n",
    "            crescente = heap_sort(vetor)\n",
    "            fim = time.time()\n",
    "            t1 = fim - inicio\n",
    "            parcial_crescente.append(t1)\n",
    "\n",
    "            # Vetor Decrecente\n",
    "            inicio = time.time()\n",
    "            decrescente = heap_sort(vetor[::-1])\n",
    "            fim = time.time()\n",
    "            t2 = fim - inicio\n",
    "            parcial_decrescente.append(t2)\n",
    "\n",
    "            #Vetor Desordenado\n",
    "            inicio = time.time()\n",
    "            desordenado = heap_sort(unsorted)\n",
    "            fim = time.time()\n",
    "            t3 = fim - inicio\n",
    "            parcial_desordenado.append(t3)\n",
    "            \n",
    "            print('ta rodando')\n",
    "        tempo_crescente.append(sum(parcial_crescente)/tamanho[i])\n",
    "        tempo_decrescente.append(sum(parcial_decrescente)/tamanho[i])\n",
    "        tempo_desordenado.append(sum(parcial_desordenado)/tamanho[i])\n",
    "        \n",
    "    return tempo_crescente, tempo_decrescente, tempo_desordenado"
   ]
  },
  {
   "cell_type": "code",
   "execution_count": 11,
   "metadata": {},
   "outputs": [],
   "source": [
    "def plotagem_tempo(tempo_crescente, tempo_decrescente, tempo_desordenado):\n",
    "    plt.plot(tempo_crescente,   'r', label='Tempo Crescente')\n",
    "    plt.plot(tempo_decrescente, 'g', label='Tempo Decrescente')\n",
    "    plt.plot(tempo_desordenado, 'b', label='Tempo Desordenado')\n",
    "    plt.legend()\n",
    "    plt.title(\"Tamanho fixo de elementos\")\n",
    "    plt.show()"
   ]
  },
  {
   "cell_type": "code",
   "execution_count": 12,
   "metadata": {},
   "outputs": [],
   "source": [
    "def tamanho_variado(tempo_crescente, tempo_decrescente, tempo_desordenado):\n",
    "    plt.plot(tempo_crescente, 'r')\n",
    "    plt.plot(tempo_decrescente, 'g')\n",
    "    plt.plot(tempo_desordenado, 'b')\n",
    "    plt.legend(('Tempo Crescente', 'Tempo Decrescente', 'Tempo Desordenado'), loc = 'upper center', shadow=True)\n",
    "    plt.title(\"Tamanho variado de elementos\")\n",
    "    plt.show()"
   ]
  },
  {
   "cell_type": "code",
   "execution_count": 13,
   "metadata": {},
   "outputs": [
    {
     "data": {
      "image/png": "[encoded data removed]",
      "text/plain": [
       "<Figure size 432x288 with 1 Axes>"
      ]
     },
     "metadata": {},
     "output_type": "display_data"
    },
    {
     "name": "stdout",
     "output_type": "stream",
     "text": [
      "ta rodando\n",
      "ta rodando\n",
      "ta rodando\n",
      "ta rodando\n",
      "ta rodando\n",
      "ta rodando\n",
      "ta rodando\n",
      "ta rodando\n",
      "ta rodando\n",
      "ta rodando\n",
      "ta rodando\n",
      "ta rodando\n",
      "ta rodando\n",
      "ta rodando\n",
      "ta rodando\n",
      "ta rodando\n",
      "ta rodando\n",
      "ta rodando\n",
      "ta rodando\n",
      "ta rodando\n",
      "ta rodando\n",
      "ta rodando\n",
      "ta rodando\n",
      "ta rodando\n",
      "ta rodando\n"
     ]
    },
    {
     "data": {
      "image/png": "[encoded data removed]",
      "text/plain": [
       "<Figure size 432x288 with 1 Axes>"
      ]
     },
     "metadata": {},
     "output_type": "display_data"
    }
   ],
   "source": [
    "tempo_crescente, tempo_decrescente, tempo_desordenado = tempo_execucao()\n",
    "plotagem_tempo(tempo_crescente, tempo_decrescente, tempo_desordenado)\n",
    "\n",
    "tempo_crescente, tempo_decrescente, tempo_desordenado = tamanho_crescente()\n",
    "tamanho_variado(tempo_crescente, tempo_decrescente, tempo_desordenado)"
   ]
  },
  {
   "cell_type": "markdown",
   "metadata": {},
   "source": [
    "## D)  Faça um estudo comparativo do algoritmo HeapSort com os algoritmos QuickSort, implementados na Questão 1, nas situações apresentadas."
   ]
  },
  {
   "cell_type": "code",
   "execution_count": null,
   "metadata": {},
   "outputs": [],
   "source": []
  },
  {
   "cell_type": "markdown",
   "metadata": {},
   "source": [
    "## Questão 3"
   ]
  },
  {
   "cell_type": "code",
   "execution_count": null,
   "metadata": {},
   "outputs": [],
   "source": [
    "qual foi"
   ]
  },
  {
   "cell_type": "markdown",
   "metadata": {},
   "source": [
    "## Questão 4"
   ]
  },
  {
   "cell_type": "code",
   "execution_count": null,
   "metadata": {},
   "outputs": [],
   "source": [
    "fala"
   ]
  },
  {
   "cell_type": "code",
   "execution_count": null,
   "metadata": {},
   "outputs": [],
   "source": []
  },
  {
   "cell_type": "code",
   "execution_count": null,
   "metadata": {},
   "outputs": [],
   "source": []
  }
 ],
 "metadata": {
  "kernelspec": {
   "display_name": "Python 3",
   "language": "python",
   "name": "python3"
  },
  "language_info": {
   "codemirror_mode": {
    "name": "ipython",
    "version": 3
   },
   "file_extension": ".py",
   "mimetype": "text/x-python",
   "name": "python",
   "nbconvert_exporter": "python",
   "pygments_lexer": "ipython3",
   "version": "3.6.5"
  }
 },
 "nbformat": 4,
 "nbformat_minor": 2
}
